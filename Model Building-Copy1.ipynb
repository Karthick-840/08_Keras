{
 "cells": [
  {
   "cell_type": "markdown",
   "metadata": {},
   "source": [
    "# Testing basic keras model layers"
   ]
  },
  {
   "cell_type": "markdown",
   "metadata": {},
   "source": [
    "## Dependencies import"
   ]
  },
  {
   "cell_type": "code",
   "execution_count": 7,
   "metadata": {},
   "outputs": [],
   "source": [
    "import pickle\n",
    "import pandas as pd\n",
    "import os\n",
    "import numpy as np\n",
    "import shutil\n",
    "\n",
    "from sklearn.model_selection import train_test_split\n",
    "from sklearn.utils import class_weight\n",
    "from sklearn.metrics import classification_report,confusion_matrix\n",
    "\n",
    "import keras\n",
    "from keras.preprocessing.image import ImageDataGenerator\n",
    "from keras.models import Sequential\n",
    "from keras.layers import Dense, Conv2D , Convolution2D, MaxPool2D,MaxPooling2D , Flatten , Dropout , BatchNormalization,Activation\n",
    "\n",
    "from keras.constraints import maxnorm\n",
    "from keras import utils as np_utils\n",
    "from keras.callbacks import ReduceLROnPlateau,ModelCheckpoint,EarlyStopping\n",
    "from keras.optimizers import SGD, adam\n",
    "\n",
    "import matplotlib.pyplot as plt\n",
    "import seaborn as sns\n",
    "\n",
    "\n",
    "# models \n",
    "from keras.applications.vgg16 import VGG16 \n",
    "from keras.models import Model"
   ]
  },
  {
   "cell_type": "code",
   "execution_count": 8,
   "metadata": {},
   "outputs": [],
   "source": [
    "def Directory_Data_Split(Batch_path,Split_files):\n",
    "    \n",
    "    Split_Type = ['X_Train', 'X_Val', 'X_Test']\n",
    "    if not os.path.exists(Batch_path):\n",
    "        os.mkdir(Batch_path)\n",
    "    os.chdir(Batch_path)\n",
    "    for index,item in enumerate(Split_Type):\n",
    "        Split_folder = os.path.join(Batch_path,Split_Type[index])\n",
    "        if not os.path.exists(Split_folder):\n",
    "            os.mkdir(Split_folder)\n",
    "        os.chdir(Split_folder)\n",
    "        seeds = Split_files[item]\n",
    "        for index,row in seeds.iterrows():\n",
    "            shutil.copy(row['File_path'],Split_folder+'/'+row['File_name'])\n",
    "    os.chdir(Batch_path)\n",
    "    \n",
    "# path = '/mnt/ST079-00/ST079-00-01/Input/X_Ray_Split'\n",
    "# Data_Split(path,Split_data)\n",
    "\n",
    "def Model_accuracy_graph(history,name,filepath):\n",
    "    if not os.path.exists(filepath):\n",
    "        os.makedirs(filepath)\n",
    "    os.chdir(filepath)\n",
    "# summarize history for accuracy    \n",
    "    plt.plot(history.history['acc'])\n",
    "    plt.plot(history.history['val_acc'])\n",
    "    plt.title(name+'-model accuracy')\n",
    "    plt.ylabel('accuracy')\n",
    "    plt.xlabel('epoch')\n",
    "    plt.legend(['train', 'validation'], loc='upper left')\n",
    "    plt.show()\n",
    "    plt.savefig(name+'-model accuracy.png',bbox_inches='tight')\n",
    "# summarize history for loss\n",
    "    plt.plot(history.history['loss'])\n",
    "    plt.plot(history.history['val_loss'])\n",
    "    plt.title(name+'-model loss')\n",
    "    plt.ylabel('loss')\n",
    "    plt.xlabel('epoch')\n",
    "    plt.legend(['train', 'validation'], loc='upper left')\n",
    "    plt.show()\n",
    "    plt.savefig(name+'-model loss.png',bbox_inches='tight')\n",
    "\n",
    "def Model_Save(model,filename,filepath):\n",
    "    if not os.path.exists(filepath):\n",
    "        os.makedirs(filepath)\n",
    "    os.chdir(filepath)\n",
    "    pickle.dump(model, open(filename, 'wb'))\n",
    "\n",
    "    \n",
    "    \n",
    "lr_reduce = ReduceLROnPlateau(monitor='val_loss', factor=0.3, patience=3, verbose=2, mode='max')\n",
    "early_stop = EarlyStopping(monitor='val_loss', min_delta=0.1, patience=4, mode='min')\n",
    "checkpoint = ModelCheckpoint(filepath='best_weights.hdf5', save_best_only=True, save_weights_only=True)"
   ]
  },
  {
   "cell_type": "code",
   "execution_count": 9,
   "metadata": {},
   "outputs": [],
   "source": [
    "File_Data = pd.read_csv('File and UT data.csv')"
   ]
  },
  {
   "cell_type": "code",
   "execution_count": 10,
   "metadata": {},
   "outputs": [
    {
     "data": {
      "text/html": [
       "<div>\n",
       "<style scoped>\n",
       "    .dataframe tbody tr th:only-of-type {\n",
       "        vertical-align: middle;\n",
       "    }\n",
       "\n",
       "    .dataframe tbody tr th {\n",
       "        vertical-align: top;\n",
       "    }\n",
       "\n",
       "    .dataframe thead th {\n",
       "        text-align: right;\n",
       "    }\n",
       "</style>\n",
       "<table border=\"1\" class=\"dataframe\">\n",
       "  <thead>\n",
       "    <tr style=\"text-align: right;\">\n",
       "      <th></th>\n",
       "      <th>Unnamed: 0</th>\n",
       "      <th>Col_ID</th>\n",
       "      <th>Row_ID</th>\n",
       "      <th>UT</th>\n",
       "      <th>Well_ID</th>\n",
       "      <th>Plate_ID</th>\n",
       "      <th>UT_Tray_ID</th>\n",
       "      <th>Crop_ID</th>\n",
       "      <th>Seed_ID</th>\n",
       "      <th>File_name</th>\n",
       "      <th>File_path</th>\n",
       "      <th>UT_Name</th>\n",
       "    </tr>\n",
       "  </thead>\n",
       "  <tbody>\n",
       "    <tr>\n",
       "      <th>0</th>\n",
       "      <td>0</td>\n",
       "      <td>1</td>\n",
       "      <td>F</td>\n",
       "      <td>1</td>\n",
       "      <td>F-1</td>\n",
       "      <td>1</td>\n",
       "      <td>1</td>\n",
       "      <td>KWM01_Train_1_2</td>\n",
       "      <td>KWM01_TRAIN_01.dcm-F-1-segmented.tif</td>\n",
       "      <td>KWM01_TRAIN_01.dcm-F-1-segmented.tif</td>\n",
       "      <td>/mnt/ST079-00/ST079-00-01/Input/X-Ray_Files/KW...</td>\n",
       "      <td>Normal</td>\n",
       "    </tr>\n",
       "    <tr>\n",
       "      <th>1</th>\n",
       "      <td>1</td>\n",
       "      <td>1</td>\n",
       "      <td>E</td>\n",
       "      <td>1</td>\n",
       "      <td>E-1</td>\n",
       "      <td>1</td>\n",
       "      <td>1</td>\n",
       "      <td>KWM01_Train_1_2</td>\n",
       "      <td>KWM01_TRAIN_01.dcm-E-1-segmented.tif</td>\n",
       "      <td>KWM01_TRAIN_01.dcm-E-1-segmented.tif</td>\n",
       "      <td>/mnt/ST079-00/ST079-00-01/Input/X-Ray_Files/KW...</td>\n",
       "      <td>Normal</td>\n",
       "    </tr>\n",
       "    <tr>\n",
       "      <th>2</th>\n",
       "      <td>2</td>\n",
       "      <td>1</td>\n",
       "      <td>D</td>\n",
       "      <td>1</td>\n",
       "      <td>D-1</td>\n",
       "      <td>1</td>\n",
       "      <td>1</td>\n",
       "      <td>KWM01_Train_1_2</td>\n",
       "      <td>KWM01_TRAIN_01.dcm-D-1-segmented.tif</td>\n",
       "      <td>KWM01_TRAIN_01.dcm-D-1-segmented.tif</td>\n",
       "      <td>/mnt/ST079-00/ST079-00-01/Input/X-Ray_Files/KW...</td>\n",
       "      <td>Normal</td>\n",
       "    </tr>\n",
       "    <tr>\n",
       "      <th>3</th>\n",
       "      <td>3</td>\n",
       "      <td>1</td>\n",
       "      <td>C</td>\n",
       "      <td>1</td>\n",
       "      <td>C-1</td>\n",
       "      <td>1</td>\n",
       "      <td>1</td>\n",
       "      <td>KWM01_Train_1_2</td>\n",
       "      <td>KWM01_TRAIN_01.dcm-C-1-segmented.tif</td>\n",
       "      <td>KWM01_TRAIN_01.dcm-C-1-segmented.tif</td>\n",
       "      <td>/mnt/ST079-00/ST079-00-01/Input/X-Ray_Files/KW...</td>\n",
       "      <td>Normal</td>\n",
       "    </tr>\n",
       "    <tr>\n",
       "      <th>4</th>\n",
       "      <td>4</td>\n",
       "      <td>1</td>\n",
       "      <td>B</td>\n",
       "      <td>3</td>\n",
       "      <td>B-1</td>\n",
       "      <td>1</td>\n",
       "      <td>1</td>\n",
       "      <td>KWM01_Train_1_2</td>\n",
       "      <td>KWM01_TRAIN_01.dcm-B-1-segmented.tif</td>\n",
       "      <td>KWM01_TRAIN_01.dcm-B-1-segmented.tif</td>\n",
       "      <td>/mnt/ST079-00/ST079-00-01/Input/X-Ray_Files/KW...</td>\n",
       "      <td>Weak</td>\n",
       "    </tr>\n",
       "  </tbody>\n",
       "</table>\n",
       "</div>"
      ],
      "text/plain": [
       "   Unnamed: 0  Col_ID Row_ID  UT Well_ID  Plate_ID  UT_Tray_ID  \\\n",
       "0           0       1      F   1     F-1         1           1   \n",
       "1           1       1      E   1     E-1         1           1   \n",
       "2           2       1      D   1     D-1         1           1   \n",
       "3           3       1      C   1     C-1         1           1   \n",
       "4           4       1      B   3     B-1         1           1   \n",
       "\n",
       "           Crop_ID                               Seed_ID  \\\n",
       "0  KWM01_Train_1_2  KWM01_TRAIN_01.dcm-F-1-segmented.tif   \n",
       "1  KWM01_Train_1_2  KWM01_TRAIN_01.dcm-E-1-segmented.tif   \n",
       "2  KWM01_Train_1_2  KWM01_TRAIN_01.dcm-D-1-segmented.tif   \n",
       "3  KWM01_Train_1_2  KWM01_TRAIN_01.dcm-C-1-segmented.tif   \n",
       "4  KWM01_Train_1_2  KWM01_TRAIN_01.dcm-B-1-segmented.tif   \n",
       "\n",
       "                              File_name  \\\n",
       "0  KWM01_TRAIN_01.dcm-F-1-segmented.tif   \n",
       "1  KWM01_TRAIN_01.dcm-E-1-segmented.tif   \n",
       "2  KWM01_TRAIN_01.dcm-D-1-segmented.tif   \n",
       "3  KWM01_TRAIN_01.dcm-C-1-segmented.tif   \n",
       "4  KWM01_TRAIN_01.dcm-B-1-segmented.tif   \n",
       "\n",
       "                                           File_path UT_Name  \n",
       "0  /mnt/ST079-00/ST079-00-01/Input/X-Ray_Files/KW...  Normal  \n",
       "1  /mnt/ST079-00/ST079-00-01/Input/X-Ray_Files/KW...  Normal  \n",
       "2  /mnt/ST079-00/ST079-00-01/Input/X-Ray_Files/KW...  Normal  \n",
       "3  /mnt/ST079-00/ST079-00-01/Input/X-Ray_Files/KW...  Normal  \n",
       "4  /mnt/ST079-00/ST079-00-01/Input/X-Ray_Files/KW...    Weak  "
      ]
     },
     "execution_count": 10,
     "metadata": {},
     "output_type": "execute_result"
    }
   ],
   "source": [
    "dict = {1: 'Normal', 2: 'Small',3:'Weak', 4: 'Abnormal', 5: 'NonGerm'}\n",
    "File_Data['UT_Name'] = File_Data['UT'].apply(lambda label: dict[label])\n",
    "File_Data.head()"
   ]
  },
  {
   "cell_type": "markdown",
   "metadata": {},
   "source": [
    "## Train, Test and Validation data split based on distribution (Stratified separation)"
   ]
  },
  {
   "cell_type": "code",
   "execution_count": 13,
   "metadata": {
    "scrolled": true
   },
   "outputs": [],
   "source": [
    "X = File_Data.loc[:, File_Data.columns != 'UT_Name']\n",
    "Y = File_Data['UT_Name']\n",
    "X_Train, x_test, Y_Train, y_test = train_test_split(X,Y, test_size=0.3, random_state=42, shuffle=True, stratify=Y)\n",
    "X_Val,X_Test,Y_Val,Y_Test = train_test_split(x_test,y_test, test_size=0.5, random_state=42, shuffle=True, stratify=y_test)\n",
    "\n",
    "X_Train = X_Train.assign(UT_Name=Y_Train)\n",
    "X_Test = X_Test.assign(UT_Name=Y_Test)\n",
    "X_Val = X_Val.assign(UT_Name=Y_Val)\n",
    "\n",
    "Split_data = {'X_Train':X_Train, 'X_Val':X_Val, 'X_Test':X_Test}"
   ]
  },
  {
   "cell_type": "markdown",
   "metadata": {},
   "source": [
    "## Image Importer (No Need to create new folder)"
   ]
  },
  {
   "cell_type": "code",
   "execution_count": 14,
   "metadata": {},
   "outputs": [],
   "source": [
    "train_datagen = ImageDataGenerator(rescale=1/255.,zoom_range = 0.1,rotation_range = 0.1,width_shift_range = 0.1,height_shift_range = 0.1)\n",
    "val_datagen = ImageDataGenerator(rescale=1/255.)\n",
    "test_datagen=ImageDataGenerator(rescale=1./255.)\n",
    "X_ray_filepath = '/mnt/ST079-00/ST079-00-01/Input/X-Ray_Files'"
   ]
  },
  {
   "cell_type": "code",
   "execution_count": 15,
   "metadata": {},
   "outputs": [
    {
     "name": "stdout",
     "output_type": "stream",
     "text": [
      "Found 1833 images belonging to 5 classes.\n",
      "Found 402 images belonging to 5 classes.\n",
      "Found 403 images.\n"
     ]
    }
   ],
   "source": [
    "train_generator=train_datagen.flow_from_dataframe(dataframe=Split_data['X_Train'],\n",
    "                                                  directory=X_ray_filepath,\n",
    "                                                  x_col=\"File_name\",\n",
    "                                                  y_col=\"UT_Name\",\n",
    "                                                  batch_size=32,\n",
    "                                                  seed=42,\n",
    "                                                  shuffle=True,\n",
    "                                                  class_mode=\"categorical\",\n",
    "                                                  target_size=(224,224))\n",
    "\n",
    "\n",
    "valid_generator=val_datagen.flow_from_dataframe(dataframe=Split_data['X_Val'],\n",
    "                                                  directory=X_ray_filepath,\n",
    "                                                  x_col=\"File_name\",\n",
    "                                                  y_col=\"UT_Name\",\n",
    "                                                  batch_size=32,\n",
    "                                                  seed=42,\n",
    "                                                  shuffle=True,\n",
    "                                                  class_mode=\"categorical\",\n",
    "                                                  target_size=(224,224))\n",
    "\n",
    "test_generator=val_datagen.flow_from_dataframe(dataframe=Split_data['X_Test'],\n",
    "                                                  directory=X_ray_filepath,\n",
    "                                                  x_col=\"File_name\",\n",
    "                                                  y_col=None,\n",
    "                                                  batch_size=1,\n",
    "                                                  class_mode=None,\n",
    "                                                  target_size=(224,224))"
   ]
  },
  {
   "cell_type": "markdown",
   "metadata": {},
   "source": [
    "## Creating Class Weights based on distribution"
   ]
  },
  {
   "cell_type": "code",
   "execution_count": 16,
   "metadata": {},
   "outputs": [
    {
     "data": {
      "text/plain": [
       "array([0.34133333, 2.59710145, 5.21941748, 1.44128686, 1.25023256])"
      ]
     },
     "execution_count": 16,
     "metadata": {},
     "output_type": "execute_result"
    }
   ],
   "source": [
    "row = File_Data['UT']\n",
    "dict = {1: 0, 2: 1,3:2, 4: 3, 5: 4}\n",
    "row = row.apply(lambda label: dict[label])\n",
    "class_weights = class_weight.compute_class_weight('balanced',\n",
    "                                                 np.unique(row),\n",
    "                                                 row)\n",
    "del dict,row\n",
    "class_weights\n"
   ]
  },
  {
   "cell_type": "markdown",
   "metadata": {},
   "source": [
    "## Test Model 1"
   ]
  },
  {
   "cell_type": "code",
   "execution_count": 17,
   "metadata": {},
   "outputs": [
    {
     "name": "stdout",
     "output_type": "stream",
     "text": [
      "WARNING:tensorflow:From /usr/local/anaconda/lib/python3.7/site-packages/tensorflow/python/framework/op_def_library.py:263: colocate_with (from tensorflow.python.framework.ops) is deprecated and will be removed in a future version.\n",
      "Instructions for updating:\n",
      "Colocations handled automatically by placer.\n",
      "WARNING:tensorflow:From /usr/local/anaconda/lib/python3.7/site-packages/keras/backend/tensorflow_backend.py:3445: calling dropout (from tensorflow.python.ops.nn_ops) with keep_prob is deprecated and will be removed in a future version.\n",
      "Instructions for updating:\n",
      "Please use `rate` instead of `keep_prob`. Rate should be set to `rate = 1 - keep_prob`.\n"
     ]
    }
   ],
   "source": [
    "model = Sequential()\n",
    "model.add(Conv2D(32, (3, 3), padding='same', input_shape=(224,224,3), use_bias=True))\n",
    "model.add(Activation('relu'))\n",
    "model.add(Dropout(0.1))\n",
    "model.add(Conv2D(32,(3, 3),use_bias=False,strides=2))\n",
    "model.add(Activation('relu'))\n",
    "model.add(MaxPooling2D(pool_size=(2, 2)))\n",
    "model.add(Conv2D(64, (3, 3)))\n",
    "model.add(Activation('relu'))\n",
    "model.add(Conv2D(128, (3, 3)))\n",
    "model.add(Activation('relu'))\n",
    "model.add(MaxPooling2D(pool_size=(2, 2)))\n",
    "model.add(Conv2D(128, (3, 3)))\n",
    "model.add(Activation('relu'))\n",
    "model.add(Conv2D(64, (3, 3)))\n",
    "model.add(Activation('relu'))\n",
    "model.add(MaxPooling2D(pool_size=(2, 2)))\n",
    "model.add(Conv2D(64, (3, 3)))\n",
    "model.add(Activation('relu'))\n",
    "model.add(Conv2D(32, (3, 3)))\n",
    "model.add(Activation('relu'))\n",
    "model.add(MaxPooling2D(pool_size=(2, 2)))\n",
    "model.add(Flatten())\n",
    "model.add(BatchNormalization())\n",
    "model.add(Dense(512))\n",
    "model.add(Activation('relu'))\n",
    "model.add(Dropout(0.2))\n",
    "model.add(Dense(512))\n",
    "model.add(Activation('tanh'))\n",
    "model.add(Dense(5, activation='softmax'))\n",
    "model.compile(optimizer='adam',loss=\"categorical_crossentropy\",metrics=[\"accuracy\"])\n",
    "\n"
   ]
  },
  {
   "cell_type": "code",
   "execution_count": 18,
   "metadata": {
    "scrolled": true
   },
   "outputs": [
    {
     "name": "stdout",
     "output_type": "stream",
     "text": [
      "WARNING:tensorflow:From /usr/local/anaconda/lib/python3.7/site-packages/tensorflow/python/ops/math_ops.py:3066: to_int32 (from tensorflow.python.ops.math_ops) is deprecated and will be removed in a future version.\n",
      "Instructions for updating:\n",
      "Use tf.cast instead.\n",
      "Epoch 1/30\n",
      "57/57 [==============================] - 105s 2s/step - loss: 1.2734 - acc: 0.5696 - val_loss: 1.9658 - val_acc: 0.1562\n",
      "Epoch 2/30\n",
      "57/57 [==============================] - 102s 2s/step - loss: 1.2059 - acc: 0.5862 - val_loss: 1.3331 - val_acc: 0.5838\n",
      "Epoch 3/30\n",
      "57/57 [==============================] - 101s 2s/step - loss: 1.1990 - acc: 0.5890 - val_loss: 1.6331 - val_acc: 0.1459\n",
      "Epoch 4/30\n",
      "57/57 [==============================] - 101s 2s/step - loss: 1.2184 - acc: 0.5747 - val_loss: 1.3562 - val_acc: 0.5676\n",
      "Epoch 5/30\n",
      "57/57 [==============================] - 100s 2s/step - loss: 1.1948 - acc: 0.5901 - val_loss: 1.5066 - val_acc: 0.1568\n",
      "Epoch 6/30\n",
      "57/57 [==============================] - 100s 2s/step - loss: 1.1977 - acc: 0.5892 - val_loss: 3.0230 - val_acc: 0.5459\n",
      "Epoch 7/30\n",
      "57/57 [==============================] - 101s 2s/step - loss: 1.2122 - acc: 0.5742 - val_loss: 2.6302 - val_acc: 0.1486\n",
      "Epoch 8/30\n",
      "57/57 [==============================] - 100s 2s/step - loss: 1.1892 - acc: 0.5912 - val_loss: 1.3053 - val_acc: 0.5649\n",
      "Epoch 9/30\n",
      "57/57 [==============================] - 101s 2s/step - loss: 1.1845 - acc: 0.5882 - val_loss: 1.6567 - val_acc: 0.6054\n",
      "Epoch 10/30\n",
      "57/57 [==============================] - 101s 2s/step - loss: 1.1906 - acc: 0.5827 - val_loss: 5.8778 - val_acc: 0.1892\n",
      "Epoch 11/30\n",
      "57/57 [==============================] - 101s 2s/step - loss: 1.2062 - acc: 0.5840 - val_loss: 4.8570 - val_acc: 0.5838\n",
      "Epoch 13/30\n",
      "57/57 [==============================] - 100s 2s/step - loss: 1.1875 - acc: 0.5887 - val_loss: 5.0312 - val_acc: 0.5784\n",
      "Epoch 14/30\n",
      "57/57 [==============================] - 101s 2s/step - loss: 1.1866 - acc: 0.5956 - val_loss: 7.2275 - val_acc: 0.1589\n",
      "Epoch 15/30\n",
      "57/57 [==============================] - 100s 2s/step - loss: 1.2031 - acc: 0.5810 - val_loss: 3.9993 - val_acc: 0.5757\n",
      "Epoch 16/30\n",
      "57/57 [==============================] - 101s 2s/step - loss: 1.1861 - acc: 0.5860 - val_loss: 6.7284 - val_acc: 0.1568\n",
      "Epoch 17/30\n",
      "57/57 [==============================] - 100s 2s/step - loss: 1.1663 - acc: 0.5972 - val_loss: 2.8103 - val_acc: 0.5973\n",
      "Epoch 18/30\n",
      "57/57 [==============================] - 100s 2s/step - loss: 1.1958 - acc: 0.5722 - val_loss: 1.5823 - val_acc: 0.5973\n",
      "Epoch 19/30\n",
      "57/57 [==============================] - 101s 2s/step - loss: 1.1654 - acc: 0.5906 - val_loss: 1.2933 - val_acc: 0.5730\n",
      "Epoch 20/30\n",
      "57/57 [==============================] - 101s 2s/step - loss: 1.1635 - acc: 0.5947 - val_loss: 6.1240 - val_acc: 0.1865\n",
      "Epoch 21/30\n",
      "57/57 [==============================] - 101s 2s/step - loss: 1.1978 - acc: 0.5775 - val_loss: 1.9151 - val_acc: 0.6000\n",
      "Epoch 22/30\n",
      "57/57 [==============================] - 100s 2s/step - loss: 1.1527 - acc: 0.5983 - val_loss: 1.3105 - val_acc: 0.4459\n",
      "Epoch 23/30\n",
      "57/57 [==============================] - 100s 2s/step - loss: 1.1527 - acc: 0.5958 - val_loss: 4.7612 - val_acc: 0.1757\n",
      "Epoch 24/30\n",
      "57/57 [==============================] - 100s 2s/step - loss: 1.1745 - acc: 0.5887 - val_loss: 1.6168 - val_acc: 0.6081\n",
      "Epoch 25/30\n",
      "57/57 [==============================] - 100s 2s/step - loss: 1.1623 - acc: 0.5895 - val_loss: 2.0041 - val_acc: 0.5865\n",
      "Epoch 26/30\n",
      "57/57 [==============================] - 99s 2s/step - loss: 1.1460 - acc: 0.5961 - val_loss: 2.8277 - val_acc: 0.1811\n",
      "Epoch 27/30\n",
      "57/57 [==============================] - 100s 2s/step - loss: 1.1509 - acc: 0.5988 - val_loss: 8.2624 - val_acc: 0.1536\n",
      "Epoch 28/30\n",
      "57/57 [==============================] - 100s 2s/step - loss: 1.1446 - acc: 0.5821 - val_loss: 3.4576 - val_acc: 0.5784\n",
      "Epoch 29/30\n",
      "57/57 [==============================] - 100s 2s/step - loss: 1.2695 - acc: 0.5728 - val_loss: 2.0342 - val_acc: 0.1432\n",
      "Epoch 30/30\n",
      "57/57 [==============================] - 100s 2s/step - loss: 1.3027 - acc: 0.5668 - val_loss: 1.7010 - val_acc: 0.5676\n"
     ]
    }
   ],
   "source": [
    "STEP_SIZE_TRAIN=train_generator.n//train_generator.batch_size\n",
    "STEP_SIZE_VALID=valid_generator.n//valid_generator.batch_size\n",
    "STEP_SIZE_TEST=test_generator.n//test_generator.batch_size\n",
    "Model_1 = model.fit_generator(generator=train_generator,\n",
    "                    steps_per_epoch=STEP_SIZE_TRAIN,\n",
    "                    validation_data=valid_generator,\n",
    "                    validation_steps=STEP_SIZE_VALID,class_weight=class_weights,\n",
    "                    epochs=30)"
   ]
  },
  {
   "cell_type": "code",
   "execution_count": 19,
   "metadata": {},
   "outputs": [
    {
     "name": "stdout",
     "output_type": "stream",
     "text": [
      "dict_keys(['val_loss', 'val_acc', 'loss', 'acc'])\n"
     ]
    }
   ],
   "source": [
    "print(Model_1.history.keys())"
   ]
  },
  {
   "cell_type": "code",
   "execution_count": 22,
   "metadata": {},
   "outputs": [
    {
     "data": {
      "image/png": "[encoded data removed]",
      "text/plain": [
       "<Figure size 432x288 with 1 Axes>"
      ]
     },
     "metadata": {
      "needs_background": "light"
     },
     "output_type": "display_data"
    },
    {
     "data": {
      "image/png": "[encoded data removed]",
      "text/plain": [
       "<Figure size 432x288 with 1 Axes>"
      ]
     },
     "metadata": {
      "needs_background": "light"
     },
     "output_type": "display_data"
    },
    {
     "data": {
      "text/plain": [
       "<Figure size 432x288 with 0 Axes>"
      ]
     },
     "metadata": {},
     "output_type": "display_data"
    }
   ],
   "source": [
    "Save_graph_path ='/mnt/ST079-00/ST079-00-01/Output/DL_Models_graphs'\n",
    "model_name  = 'Model_1'\n",
    "Model_accuracy_graph(Model_1,model_name,Save_graph_path)\n",
    "Save_model_path = '/mnt/ST079-00/ST079-00-01/Output/DL_Models'\n",
    "Model_Save(Model_1,model_name,Save_model_path)"
   ]
  },
  {
   "cell_type": "markdown",
   "metadata": {},
   "source": [
    "### Model_1 -  Huge Difference in Test and Validation accuracy"
   ]
  },
  {
   "cell_type": "markdown",
   "metadata": {},
   "source": [
    "## Test Model 2"
   ]
  },
  {
   "cell_type": "code",
   "execution_count": 23,
   "metadata": {},
   "outputs": [],
   "source": [
    "model = Sequential()\n",
    "model.add(Conv2D(32, (3, 3), padding='same', input_shape=(224,224,3), use_bias=True))\n",
    "model.add(Activation('relu'))\n",
    "model.add(Dropout(0.1))\n",
    "model.add(Conv2D(32, (3, 3),use_bias=False,strides=2))\n",
    "model.add(Activation('relu'))\n",
    "model.add(MaxPooling2D(pool_size=(2, 2)))\n",
    "model.add(Conv2D(64, (3, 3)))\n",
    "model.add(Activation('relu'))\n",
    "model.add(Conv2D(128, (3, 3)))\n",
    "model.add(Activation('relu'))\n",
    "model.add(MaxPooling2D(pool_size=(2, 2)))\n",
    "model.add(Conv2D(128, (3, 3)))\n",
    "model.add(Activation('relu'))\n",
    "model.add(Conv2D(64, (3, 3)))\n",
    "model.add(Activation('relu'))\n",
    "model.add(MaxPooling2D(pool_size=(2, 2)))\n",
    "model.add(Conv2D(64, (3, 3)))\n",
    "model.add(Activation('relu'))\n",
    "model.add(Conv2D(32, (3, 3)))\n",
    "model.add(Activation('relu'))\n",
    "model.add(MaxPooling2D(pool_size=(2, 2)))\n",
    "model.add(Flatten())\n",
    "model.add(BatchNormalization())\n",
    "model.add(Dense(512))\n",
    "model.add(Activation('relu'))\n",
    "model.add(Dropout(0.2))\n",
    "model.add(Dense(512))\n",
    "model.add(Activation('tanh'))\n",
    "model.add(Dense(5, activation='softmax'))\n",
    "model.compile(optimizer='adam',loss=\"categorical_crossentropy\",metrics=[\"accuracy\"])\n",
    "\n"
   ]
  },
  {
   "cell_type": "code",
   "execution_count": 24,
   "metadata": {},
   "outputs": [
    {
     "name": "stdout",
     "output_type": "stream",
     "text": [
      "Epoch 1/30\n",
      "57/57 [==============================] - 103s 2s/step - loss: 1.3405 - acc: 0.5320 - val_loss: 2.0380 - val_acc: 0.6081\n",
      "Epoch 2/30\n",
      "57/57 [==============================] - 100s 2s/step - loss: 1.2835 - acc: 0.5618 - val_loss: 2.7262 - val_acc: 0.4784\n",
      "Epoch 3/30\n",
      "57/57 [==============================] - 101s 2s/step - loss: 1.2850 - acc: 0.5637 - val_loss: 1.7086 - val_acc: 0.5730\n",
      "Epoch 4/30\n",
      "57/57 [==============================] - 100s 2s/step - loss: 1.2304 - acc: 0.5862 - val_loss: 1.5880 - val_acc: 0.1676\n",
      "Epoch 5/30\n",
      "57/57 [==============================] - 100s 2s/step - loss: 1.2183 - acc: 0.5843 - val_loss: 1.4719 - val_acc: 0.6027\n",
      "Epoch 6/30\n",
      "57/57 [==============================] - 100s 2s/step - loss: 1.2230 - acc: 0.5742 - val_loss: 1.4044 - val_acc: 0.3622\n",
      "Epoch 7/30\n",
      "57/57 [==============================] - 100s 2s/step - loss: 1.2375 - acc: 0.5750 - val_loss: 1.7206 - val_acc: 0.5811\n",
      "Epoch 8/30\n",
      "57/57 [==============================] - 100s 2s/step - loss: 1.1861 - acc: 0.5925 - val_loss: 1.2518 - val_acc: 0.5781\n",
      "Epoch 9/30\n",
      "57/57 [==============================] - 100s 2s/step - loss: 1.1919 - acc: 0.5849 - val_loss: 2.1731 - val_acc: 0.1595\n",
      "Epoch 10/30\n",
      "57/57 [==============================] - 100s 2s/step - loss: 1.1576 - acc: 0.5953 - val_loss: 1.5617 - val_acc: 0.5730\n",
      "Epoch 11/30\n",
      "57/57 [==============================] - 100s 2s/step - loss: 1.1812 - acc: 0.5871 - val_loss: 1.4941 - val_acc: 0.2622\n",
      "Epoch 12/30\n",
      "57/57 [==============================] - 101s 2s/step - loss: 1.1481 - acc: 0.5969 - val_loss: 1.5844 - val_acc: 0.5622\n",
      "Epoch 13/30\n",
      "57/57 [==============================] - 100s 2s/step - loss: 1.1875 - acc: 0.5791 - val_loss: 1.5708 - val_acc: 0.6054\n",
      "Epoch 14/30\n",
      "57/57 [==============================] - 100s 2s/step - loss: 1.1533 - acc: 0.5925 - val_loss: 1.6231 - val_acc: 0.5730\n",
      "Epoch 15/30\n",
      "57/57 [==============================] - 100s 2s/step - loss: 1.1501 - acc: 0.5958 - val_loss: 1.4416 - val_acc: 0.3757\n",
      "Epoch 16/30\n",
      "57/57 [==============================] - 100s 2s/step - loss: 1.1592 - acc: 0.5997 - val_loss: 3.2455 - val_acc: 0.1784\n",
      "Epoch 17/30\n",
      "57/57 [==============================] - 101s 2s/step - loss: 1.1630 - acc: 0.6002 - val_loss: 1.5048 - val_acc: 0.5892\n",
      "Epoch 18/30\n",
      "57/57 [==============================] - 101s 2s/step - loss: 1.1549 - acc: 0.5871 - val_loss: 1.2864 - val_acc: 0.5973\n",
      "Epoch 19/30\n",
      "57/57 [==============================] - 101s 2s/step - loss: 1.1129 - acc: 0.6115 - val_loss: 1.4443 - val_acc: 0.2568\n",
      "Epoch 20/30\n",
      "57/57 [==============================] - 101s 2s/step - loss: 1.1734 - acc: 0.5827 - val_loss: 1.9400 - val_acc: 0.1514\n",
      "Epoch 21/30\n",
      "57/57 [==============================] - 101s 2s/step - loss: 1.1334 - acc: 0.6071 - val_loss: 1.5036 - val_acc: 0.3802\n",
      "Epoch 22/30\n",
      "57/57 [==============================] - 101s 2s/step - loss: 1.1648 - acc: 0.5901 - val_loss: 1.3036 - val_acc: 0.5946\n",
      "Epoch 23/30\n",
      "57/57 [==============================] - 100s 2s/step - loss: 1.1523 - acc: 0.5953 - val_loss: 1.5796 - val_acc: 0.5622\n",
      "Epoch 24/30\n",
      "57/57 [==============================] - 100s 2s/step - loss: 1.1850 - acc: 0.5816 - val_loss: 1.4278 - val_acc: 0.6108\n",
      "Epoch 25/30\n",
      "57/57 [==============================] - 101s 2s/step - loss: 1.1438 - acc: 0.5989 - val_loss: 1.2484 - val_acc: 0.5568\n",
      "Epoch 26/30\n",
      "57/57 [==============================] - 101s 2s/step - loss: 1.1497 - acc: 0.6011 - val_loss: 1.1687 - val_acc: 0.6162\n",
      "Epoch 27/30\n",
      "57/57 [==============================] - 100s 2s/step - loss: 1.1326 - acc: 0.5914 - val_loss: 1.5467 - val_acc: 0.3297\n",
      "Epoch 28/30\n",
      "57/57 [==============================] - 100s 2s/step - loss: 1.1307 - acc: 0.6035 - val_loss: 1.2196 - val_acc: 0.5730\n",
      "Epoch 29/30\n",
      "57/57 [==============================] - 101s 2s/step - loss: 1.1537 - acc: 0.5931 - val_loss: 1.2217 - val_acc: 0.5649\n",
      "Epoch 30/30\n",
      "57/57 [==============================] - 100s 2s/step - loss: 1.1282 - acc: 0.6079 - val_loss: 3.4149 - val_acc: 0.1486\n"
     ]
    }
   ],
   "source": [
    "STEP_SIZE_TRAIN=train_generator.n//train_generator.batch_size\n",
    "STEP_SIZE_VALID=valid_generator.n//valid_generator.batch_size\n",
    "STEP_SIZE_TEST=test_generator.n//test_generator.batch_size\n",
    "Model_2 = model.fit_generator(generator=train_generator,\n",
    "                    steps_per_epoch=STEP_SIZE_TRAIN,\n",
    "                    validation_data=valid_generator,\n",
    "                    validation_steps=STEP_SIZE_VALID,class_weight=class_weights,\n",
    "                    epochs=30\n",
    ")"
   ]
  },
  {
   "cell_type": "code",
   "execution_count": 25,
   "metadata": {},
   "outputs": [
    {
     "data": {
      "image/png": "[encoded data removed]",
      "text/plain": [
       "<Figure size 432x288 with 1 Axes>"
      ]
     },
     "metadata": {
      "needs_background": "light"
     },
     "output_type": "display_data"
    },
    {
     "data": {
      "image/png": "[encoded data removed]",
      "text/plain": [
       "<Figure size 432x288 with 1 Axes>"
      ]
     },
     "metadata": {
      "needs_background": "light"
     },
     "output_type": "display_data"
    },
    {
     "data": {
      "text/plain": [
       "<Figure size 432x288 with 0 Axes>"
      ]
     },
     "metadata": {},
     "output_type": "display_data"
    }
   ],
   "source": [
    "Save_graph_path ='/mnt/ST079-00/ST079-00-01/Output/DL_Models_graphs'\n",
    "model_name  = 'Model_2'\n",
    "Model_accuracy_graph(Model_2,model_name,Save_graph_path)\n",
    "Save_model_path = '/mnt/ST079-00/ST079-00-01/Output/DL_Models'\n",
    "Model_Save(Model_2,model_name,Save_model_path)"
   ]
  },
  {
   "cell_type": "markdown",
   "metadata": {},
   "source": [
    "### Model_2 Huge Difference in Train and Validation accuracy"
   ]
  },
  {
   "cell_type": "markdown",
   "metadata": {},
   "source": [
    "## Test Model 3"
   ]
  },
  {
   "cell_type": "code",
   "execution_count": 26,
   "metadata": {},
   "outputs": [],
   "source": [
    "model = Sequential()\n",
    "model.add(Conv2D(input_shape=(224,224,3), filters=32, use_bias=True, kernel_size=(3,3)))\n",
    "model.add(Activation('relu'))\n",
    "model.add(Dropout(0.1))\n",
    "model.add(Conv2D(filters=64, use_bias=False, kernel_size=(5,5), strides=2))\n",
    "model.add(Activation('relu'))\n",
    "model.add(Dropout(0.2))\n",
    "model.add(Flatten())\n",
    "model.add(Dense(128))\n",
    "model.add(Activation('relu'))\n",
    "model.add(Dropout(0.3))\n",
    "model.add(Dense(5, activation=\"softmax\"))\n",
    "model.compile(loss='categorical_crossentropy', optimizer='adam', metrics=['accuracy'])"
   ]
  },
  {
   "cell_type": "code",
   "execution_count": 27,
   "metadata": {},
   "outputs": [
    {
     "name": "stdout",
     "output_type": "stream",
     "text": [
      "Epoch 1/30\n",
      "57/57 [==============================] - 160s 3s/step - loss: 6.7503 - acc: 0.5681 - val_loss: 6.7086 - val_acc: 0.5838\n",
      "Epoch 2/30\n",
      "57/57 [==============================] - 156s 3s/step - loss: 6.7969 - acc: 0.5783 - val_loss: 6.5900 - val_acc: 0.5911\n",
      "Epoch 3/30\n",
      "57/57 [==============================] - 157s 3s/step - loss: 6.6384 - acc: 0.5881 - val_loss: 6.6651 - val_acc: 0.5865\n",
      "Epoch 4/30\n",
      "57/57 [==============================] - 157s 3s/step - loss: 6.5675 - acc: 0.5925 - val_loss: 6.6651 - val_acc: 0.5865\n",
      "Epoch 5/30\n",
      "57/57 [==============================] - 156s 3s/step - loss: 6.7710 - acc: 0.5799 - val_loss: 6.5779 - val_acc: 0.5919\n",
      "Epoch 6/30\n",
      "57/57 [==============================] - 156s 3s/step - loss: 6.6957 - acc: 0.5846 - val_loss: 6.5779 - val_acc: 0.5919\n",
      "Epoch 7/30\n",
      "57/57 [==============================] - 155s 3s/step - loss: 6.5586 - acc: 0.5931 - val_loss: 6.6215 - val_acc: 0.5892\n",
      "Epoch 8/30\n",
      "57/57 [==============================] - 155s 3s/step - loss: 6.7175 - acc: 0.5832 - val_loss: 7.0135 - val_acc: 0.5649\n",
      "Epoch 9/30\n",
      "57/57 [==============================] - 155s 3s/step - loss: 6.6779 - acc: 0.5857 - val_loss: 6.8829 - val_acc: 0.5730\n",
      "Epoch 10/30\n",
      "57/57 [==============================] - 156s 3s/step - loss: 6.6028 - acc: 0.5903 - val_loss: 6.4908 - val_acc: 0.5973\n",
      "Epoch 11/30\n",
      "57/57 [==============================] - 156s 3s/step - loss: 6.6647 - acc: 0.5865 - val_loss: 6.3601 - val_acc: 0.6054\n",
      "Epoch 12/30\n",
      "57/57 [==============================] - 156s 3s/step - loss: 6.7134 - acc: 0.5835 - val_loss: 6.6215 - val_acc: 0.5892\n",
      "Epoch 13/30\n",
      "57/57 [==============================] - 155s 3s/step - loss: 6.6914 - acc: 0.5849 - val_loss: 6.7522 - val_acc: 0.5811\n",
      "Epoch 14/30\n",
      "57/57 [==============================] - 156s 3s/step - loss: 6.5850 - acc: 0.5915 - val_loss: 6.7086 - val_acc: 0.5838\n",
      "Epoch 15/30\n",
      "57/57 [==============================] - 157s 3s/step - loss: 6.6690 - acc: 0.5862 - val_loss: 6.6739 - val_acc: 0.5859\n",
      "Epoch 16/30\n",
      "57/57 [==============================] - 158s 3s/step - loss: 6.7444 - acc: 0.5816 - val_loss: 6.6651 - val_acc: 0.5865\n",
      "Epoch 17/30\n",
      "57/57 [==============================] - 157s 3s/step - loss: 6.7356 - acc: 0.5821 - val_loss: 6.7957 - val_acc: 0.5784\n",
      "Epoch 18/30\n",
      "57/57 [==============================] - 158s 3s/step - loss: 6.5718 - acc: 0.5923 - val_loss: 6.6651 - val_acc: 0.5865\n",
      "Epoch 19/30\n",
      "57/57 [==============================] - 158s 3s/step - loss: 6.7266 - acc: 0.5827 - val_loss: 6.2294 - val_acc: 0.6135\n",
      "Epoch 20/30\n",
      "57/57 [==============================] - 159s 3s/step - loss: 6.6735 - acc: 0.5860 - val_loss: 6.7957 - val_acc: 0.5784\n",
      "Epoch 21/30\n",
      "57/57 [==============================] - 159s 3s/step - loss: 6.6717 - acc: 0.5861 - val_loss: 6.6651 - val_acc: 0.5865\n",
      "Epoch 22/30\n",
      "57/57 [==============================] - 158s 3s/step - loss: 6.6337 - acc: 0.5884 - val_loss: 6.8829 - val_acc: 0.5730\n",
      "Epoch 23/30\n",
      "57/57 [==============================] - 157s 3s/step - loss: 6.8063 - acc: 0.5777 - val_loss: 6.6215 - val_acc: 0.5892\n",
      "Epoch 24/30\n",
      "57/57 [==============================] - 158s 3s/step - loss: 6.5365 - acc: 0.5945 - val_loss: 6.4037 - val_acc: 0.6027\n",
      "Epoch 25/30\n",
      "57/57 [==============================] - 157s 3s/step - loss: 6.6867 - acc: 0.5851 - val_loss: 6.9700 - val_acc: 0.5676\n",
      "Epoch 26/30\n",
      "57/57 [==============================] - 158s 3s/step - loss: 6.6213 - acc: 0.5887 - val_loss: 6.4908 - val_acc: 0.5973\n",
      "Epoch 27/30\n",
      "57/57 [==============================] - 158s 3s/step - loss: 6.6824 - acc: 0.5854 - val_loss: 6.6651 - val_acc: 0.5865\n",
      "Epoch 28/30\n",
      "57/57 [==============================] - 158s 3s/step - loss: 6.5854 - acc: 0.5914 - val_loss: 6.7578 - val_acc: 0.5807\n",
      "Epoch 29/30\n",
      "57/57 [==============================] - 158s 3s/step - loss: 6.7798 - acc: 0.5794 - val_loss: 6.7086 - val_acc: 0.5838\n",
      "Epoch 30/30\n",
      "57/57 [==============================] - 158s 3s/step - loss: 6.8413 - acc: 0.5756 - val_loss: 6.2730 - val_acc: 0.6108\n"
     ]
    }
   ],
   "source": [
    "STEP_SIZE_TRAIN=train_generator.n//train_generator.batch_size\n",
    "STEP_SIZE_VALID=valid_generator.n//valid_generator.batch_size\n",
    "STEP_SIZE_TEST=test_generator.n//test_generator.batch_size\n",
    "Model_3 = model.fit_generator(generator=train_generator,\n",
    "                    steps_per_epoch=STEP_SIZE_TRAIN,\n",
    "                    validation_data=valid_generator,\n",
    "                    validation_steps=STEP_SIZE_VALID,class_weight=class_weights,\n",
    "                    epochs=30\n",
    ")"
   ]
  },
  {
   "cell_type": "code",
   "execution_count": 28,
   "metadata": {},
   "outputs": [
    {
     "data": {
      "image/png": "[encoded data removed]",
      "text/plain": [
       "<Figure size 432x288 with 1 Axes>"
      ]
     },
     "metadata": {
      "needs_background": "light"
     },
     "output_type": "display_data"
    },
    {
     "data": {
      "image/png": "[encoded data removed]",
      "text/plain": [
       "<Figure size 432x288 with 1 Axes>"
      ]
     },
     "metadata": {
      "needs_background": "light"
     },
     "output_type": "display_data"
    },
    {
     "data": {
      "text/plain": [
       "<Figure size 432x288 with 0 Axes>"
      ]
     },
     "metadata": {},
     "output_type": "display_data"
    }
   ],
   "source": [
    "Save_graph_path ='/mnt/ST079-00/ST079-00-01/Output/DL_Models_graphs'\n",
    "model_name  = 'Model_3'\n",
    "Model_accuracy_graph(Model_3,model_name,Save_graph_path)\n",
    "Save_model_path = '/mnt/ST079-00/ST079-00-01/Output/DL_Models'\n",
    "Model_Save(Model_3,model_name,Save_model_path)"
   ]
  },
  {
   "cell_type": "markdown",
   "metadata": {},
   "source": [
    "### Model 3: Comaprable Train and validation Accuracy -  might imporve performance if tuned"
   ]
  },
  {
   "cell_type": "markdown",
   "metadata": {},
   "source": [
    "## Test Model 4"
   ]
  },
  {
   "cell_type": "code",
   "execution_count": null,
   "metadata": {},
   "outputs": [
    {
     "name": "stderr",
     "output_type": "stream",
     "text": [
      "/usr/local/anaconda/lib/python3.7/site-packages/ipykernel_launcher.py:2: UserWarning: Update your `Conv2D` call to the Keras 2 API: `Conv2D(32, (3, 3), input_shape=(224, 224,..., activation=\"relu\", padding=\"same\")`\n",
      "  \n",
      "/usr/local/anaconda/lib/python3.7/site-packages/ipykernel_launcher.py:3: UserWarning: Update your `Conv2D` call to the Keras 2 API: `Conv2D(32, (3, 3), activation=\"relu\", padding=\"same\")`\n",
      "  This is separate from the ipykernel package so we can avoid doing imports until\n",
      "/usr/local/anaconda/lib/python3.7/site-packages/ipykernel_launcher.py:7: UserWarning: Update your `Conv2D` call to the Keras 2 API: `Conv2D(64, (3, 3), activation=\"relu\", padding=\"same\")`\n",
      "  import sys\n",
      "/usr/local/anaconda/lib/python3.7/site-packages/ipykernel_launcher.py:8: UserWarning: Update your `Conv2D` call to the Keras 2 API: `Conv2D(64, (3, 3), activation=\"relu\", padding=\"same\")`\n",
      "  \n",
      "/usr/local/anaconda/lib/python3.7/site-packages/ipykernel_launcher.py:12: UserWarning: Update your `Conv2D` call to the Keras 2 API: `Conv2D(128, (3, 3), activation=\"relu\", padding=\"same\")`\n",
      "  if sys.path[0] == '':\n",
      "/usr/local/anaconda/lib/python3.7/site-packages/ipykernel_launcher.py:13: UserWarning: Update your `Conv2D` call to the Keras 2 API: `Conv2D(128, (3, 3), activation=\"relu\", padding=\"same\")`\n",
      "  del sys.path[0]\n",
      "/usr/local/anaconda/lib/python3.7/site-packages/ipykernel_launcher.py:17: UserWarning: Update your `Conv2D` call to the Keras 2 API: `Conv2D(256, (3, 3), activation=\"relu\", padding=\"same\")`\n",
      "/usr/local/anaconda/lib/python3.7/site-packages/ipykernel_launcher.py:18: UserWarning: Update your `Conv2D` call to the Keras 2 API: `Conv2D(256, (3, 3), activation=\"relu\", padding=\"same\")`\n",
      "/usr/local/anaconda/lib/python3.7/site-packages/ipykernel_launcher.py:21: UserWarning: Update your `Dense` call to the Keras 2 API: `Dense(1024, activation=\"relu\", kernel_constraint=<keras.con...)`\n",
      "/usr/local/anaconda/lib/python3.7/site-packages/ipykernel_launcher.py:24: UserWarning: Update your `Dense` call to the Keras 2 API: `Dense(512, activation=\"relu\", kernel_constraint=<keras.con...)`\n"
     ]
    }
   ],
   "source": [
    "model = Sequential()\n",
    "model.add(Convolution2D(32, 3, 3, input_shape=(224,224,3), activation='relu', border_mode='same'))\n",
    "model.add(Convolution2D(32, 3, 3, activation='relu', border_mode='same'))\n",
    "model.add(MaxPooling2D(pool_size=(2, 2)))\n",
    "model.add(BatchNormalization())\n",
    "model.add(Dropout(0.2))\n",
    "model.add(Convolution2D(64, 3, 3, activation='relu', border_mode='same'))\n",
    "model.add(Convolution2D(64, 3, 3, activation='relu', border_mode='same'))\n",
    "model.add(MaxPooling2D(pool_size=(2, 2)))\n",
    "model.add(BatchNormalization())\n",
    "model.add(Dropout(0.2))\n",
    "model.add(Convolution2D(128, 3, 3, activation='relu', border_mode='same'))\n",
    "model.add(Convolution2D(128, 3, 3, activation='relu', border_mode='same'))\n",
    "model.add(BatchNormalization())\n",
    "model.add(MaxPooling2D(pool_size=(2, 2)))\n",
    "model.add(Dropout(0.2))\n",
    "model.add(Convolution2D(256, 3, 3, activation='relu', border_mode='same'))\n",
    "model.add(Convolution2D(256, 3, 3, activation='relu', border_mode='same'))\n",
    "model.add(MaxPooling2D(pool_size=(2, 2)))\n",
    "model.add(Flatten())\n",
    "model.add(Dense(1024, activation='relu', W_constraint=maxnorm(3)))\n",
    "model.add(BatchNormalization())\n",
    "model.add(Dropout(0.5))\n",
    "model.add(Dense(512, activation='relu', W_constraint=maxnorm(3)))\n",
    "model.add(BatchNormalization())\n",
    "model.add(Dropout(0.5))\n",
    "model.add(Dense(5, activation='softmax'))\n",
    "model.compile(loss='categorical_crossentropy', optimizer='adam', metrics=['accuracy'])"
   ]
  },
  {
   "cell_type": "code",
   "execution_count": null,
   "metadata": {},
   "outputs": [
    {
     "name": "stdout",
     "output_type": "stream",
     "text": [
      "Epoch 1/30\n",
      "57/57 [==============================] - 377s 7s/step - loss: 2.2829 - acc: 0.2745 - val_loss: 2.8134 - val_acc: 0.4189\n",
      "Epoch 2/30\n",
      "57/57 [==============================] - 377s 7s/step - loss: 1.8289 - acc: 0.3920 - val_loss: 2.4259 - val_acc: 0.5649\n",
      "Epoch 3/30\n",
      "57/57 [==============================] - 372s 7s/step - loss: 1.6554 - acc: 0.4653 - val_loss: 2.2704 - val_acc: 0.1351\n",
      "Epoch 4/30\n",
      "57/57 [==============================] - 373s 7s/step - loss: 1.5849 - acc: 0.4801 - val_loss: 5.3676 - val_acc: 0.1432\n",
      "Epoch 5/30\n",
      "57/57 [==============================] - 375s 7s/step - loss: 1.5487 - acc: 0.4944 - val_loss: 3.8294 - val_acc: 0.5459\n",
      "Epoch 6/30\n",
      "57/57 [==============================] - 373s 7s/step - loss: 1.5100 - acc: 0.4966 - val_loss: 1.6654 - val_acc: 0.4946\n",
      "Epoch 7/30\n",
      "57/57 [==============================] - 373s 7s/step - loss: 1.4588 - acc: 0.5048 - val_loss: 3.4532 - val_acc: 0.5757\n",
      "Epoch 8/30\n",
      "57/57 [==============================] - 374s 7s/step - loss: 1.4323 - acc: 0.5166 - val_loss: 3.1188 - val_acc: 0.3838\n",
      "Epoch 9/30\n",
      "57/57 [==============================] - 374s 7s/step - loss: 1.4010 - acc: 0.5226 - val_loss: 2.0614 - val_acc: 0.5859\n",
      "Epoch 10/30\n",
      "57/57 [==============================] - 373s 7s/step - loss: 1.3524 - acc: 0.5424 - val_loss: 1.9886 - val_acc: 0.5811\n",
      "Epoch 11/30\n",
      "57/57 [==============================] - 373s 7s/step - loss: 1.3473 - acc: 0.5448 - val_loss: 1.2234 - val_acc: 0.6081\n",
      "Epoch 12/30\n",
      "57/57 [==============================] - 376s 7s/step - loss: 1.3034 - acc: 0.5468 - val_loss: 1.9795 - val_acc: 0.5946\n",
      "Epoch 13/30\n",
      "57/57 [==============================] - 374s 7s/step - loss: 1.2822 - acc: 0.5569 - val_loss: 2.0601 - val_acc: 0.1811\n",
      "Epoch 14/30\n",
      "57/57 [==============================] - 375s 7s/step - loss: 1.3046 - acc: 0.5588 - val_loss: 1.4065 - val_acc: 0.3973\n",
      "Epoch 15/30\n",
      "57/57 [==============================] - 376s 7s/step - loss: 1.2473 - acc: 0.5720 - val_loss: 1.4933 - val_acc: 0.3486\n",
      "Epoch 16/30\n",
      "57/57 [==============================] - 375s 7s/step - loss: 1.2820 - acc: 0.5547 - val_loss: 1.2417 - val_acc: 0.5568\n",
      "Epoch 17/30\n",
      "13/57 [=====>........................] - ETA: 4:35 - loss: 1.2101 - acc: 0.5986"
     ]
    }
   ],
   "source": [
    "STEP_SIZE_TRAIN=train_generator.n//train_generator.batch_size\n",
    "STEP_SIZE_VALID=valid_generator.n//valid_generator.batch_size\n",
    "STEP_SIZE_TEST=test_generator.n//test_generator.batch_size\n",
    "Model_4 = model.fit_generator(generator=train_generator,\n",
    "                    steps_per_epoch=STEP_SIZE_TRAIN,\n",
    "                    validation_data=valid_generator,\n",
    "                    validation_steps=STEP_SIZE_VALID,class_weight=class_weights,\n",
    "                    epochs=30\n",
    ")"
   ]
  },
  {
   "cell_type": "code",
   "execution_count": null,
   "metadata": {},
   "outputs": [],
   "source": [
    "Save_graph_path ='/mnt/ST079-00/ST079-00-01/Output/DL_Models_graphs'\n",
    "model_name  = 'Model_4'\n",
    "Model_accuracy_graph(Model_4,model_name,Save_graph_path)\n",
    "Save_model_path = '/mnt/ST079-00/ST079-00-01/Output/DL_Models'\n",
    "Model_Save(Model_4,model_name,Save_model_path)"
   ]
  },
  {
   "cell_type": "markdown",
   "metadata": {},
   "source": [
    "## Test Model 5"
   ]
  },
  {
   "cell_type": "code",
   "execution_count": null,
   "metadata": {},
   "outputs": [],
   "source": [
    "model = Sequential()\n",
    "model.add(Conv2D(32, (3, 3), padding='same',\n",
    "                 input_shape=(224,224,3)))\n",
    "model.add(Activation('relu'))\n",
    "model.add(Conv2D(32, (3, 3)))\n",
    "model.add(Activation('relu'))\n",
    "model.add(MaxPooling2D(pool_size=(2, 2)))\n",
    "model.add(Dropout(0.25))\n",
    "model.add(Conv2D(64, (3, 3), padding='same'))\n",
    "model.add(Activation('relu'))\n",
    "model.add(Conv2D(64, (3, 3)))\n",
    "model.add(Activation('relu'))\n",
    "model.add(MaxPooling2D(pool_size=(2, 2)))\n",
    "model.add(Dropout(0.25))\n",
    "model.add(Flatten())\n",
    "model.add(Dense(512))\n",
    "model.add(Activation('relu'))\n",
    "model.add(Dropout(0.5))\n",
    "model.add(Dense(5, activation='softmax'))\n",
    "model.compile(optimizer='adam',loss=\"categorical_crossentropy\",metrics=[\"accuracy\"])"
   ]
  },
  {
   "cell_type": "code",
   "execution_count": null,
   "metadata": {},
   "outputs": [],
   "source": [
    "STEP_SIZE_TRAIN=train_generator.n//train_generator.batch_size\n",
    "STEP_SIZE_VALID=valid_generator.n//valid_generator.batch_size\n",
    "STEP_SIZE_TEST=test_generator.n//test_generator.batch_size\n",
    "Model_5 = model.fit_generator(generator=train_generator,\n",
    "                    steps_per_epoch=STEP_SIZE_TRAIN,\n",
    "                    validation_data=valid_generator,\n",
    "                    validation_steps=STEP_SIZE_VALID,\n",
    "                    epochs=30,class_weight=class_weights,)"
   ]
  },
  {
   "cell_type": "code",
   "execution_count": null,
   "metadata": {},
   "outputs": [],
   "source": [
    "Save_graph_path ='/mnt/ST079-00/ST079-00-01/Output/DL_Models_graphs'\n",
    "model_name  = 'Model_5'\n",
    "Model_accuracy_graph(Model_5,model_name,Save_graph_path)\n",
    "Save_model_path = '/mnt/ST079-00/ST079-00-01/Output/DL_Models'\n",
    "Model_Save(Model_5,model_name,Save_model_path)"
   ]
  },
  {
   "cell_type": "markdown",
   "metadata": {},
   "source": [
    "## Testing Model 6"
   ]
  },
  {
   "cell_type": "code",
   "execution_count": null,
   "metadata": {},
   "outputs": [],
   "source": [
    "model = Sequential()\n",
    "model.add(Conv2D(32, (3, 3), padding='same',input_shape=(224,224,3)))\n",
    "model.add(Conv2D(64, (3, 3), padding='same',activation='relu'))\n",
    "model.add(MaxPooling2D(pool_size=(2 ,2)))\n",
    "model.add(Conv2D(128, (3, 3), padding='same',activation='relu'))\n",
    "model.add(Dropout(0.1))\n",
    "model.add(Conv2D(128, (3, 3), padding='same',activation='relu'))\n",
    "model.add(MaxPooling2D(pool_size=(2, 2)))\n",
    "model.add(Flatten())\n",
    "model.add(Dense(390625))\n",
    "model.add(Dense(625))\n",
    "model.add(Dense(25))\n",
    "model.add(Dense(5, activation='softmax'))\n",
    "model.compile(optimizers.rmsprop(lr=0.0001, decay=1e-6),loss=\"categorical_crossentropy\",metrics=[\"accuracy\"])"
   ]
  },
  {
   "cell_type": "code",
   "execution_count": null,
   "metadata": {},
   "outputs": [],
   "source": [
    "STEP_SIZE_TRAIN=train_generator.n//train_generator.batch_size\n",
    "STEP_SIZE_VALID=valid_generator.n//valid_generator.batch_size\n",
    "STEP_SIZE_TEST=test_generator.n//test_generator.batch_size\n",
    "Model_6 = model.fit_generator(generator=train_generator,\n",
    "                    steps_per_epoch=STEP_SIZE_TRAIN,\n",
    "                    validation_data=valid_generator,\n",
    "                    validation_steps=STEP_SIZE_VALID,\n",
    "                    epochs=30,class_weight=class_weights)"
   ]
  },
  {
   "cell_type": "code",
   "execution_count": null,
   "metadata": {},
   "outputs": [],
   "source": [
    "Save_graph_path ='/mnt/ST079-00/ST079-00-01/Output/DL_Models_graphs'\n",
    "model_name  = 'Model_6'\n",
    "Model_accuracy_graph(Model_6,model_name,Save_graph_path)\n",
    "Save_model_path = '/mnt/ST079-00/ST079-00-01/Output/DL_Models'\n",
    "Model_Save(Model_6,model_name,Save_model_path)"
   ]
  },
  {
   "cell_type": "markdown",
   "metadata": {},
   "source": [
    "## Test Model 7 (Deeper Models)"
   ]
  },
  {
   "cell_type": "code",
   "execution_count": null,
   "metadata": {},
   "outputs": [],
   "source": [
    "# Create the model\n",
    "num_classes =5\n",
    "model = Sequential()\n",
    "model.add(Conv2D(32, (3, 3), input_shape=(32, 32, 3), activation='relu', padding='same'))\n",
    "model.add(Dropout(0.2))\n",
    "model.add(Conv2D(32, (3, 3), activation='relu', padding='same'))\n",
    "model.add(MaxPooling2D())\n",
    "model.add(Conv2D(64, (3, 3), activation='relu', padding='same'))\n",
    "model.add(Dropout(0.2))\n",
    "model.add(Conv2D(64, (3, 3), activation='relu', padding='same'))\n",
    "model.add(MaxPooling2D())\n",
    "model.add(Conv2D(128, (3, 3), activation='relu', padding='same'))\n",
    "model.add(Dropout(0.2))\n",
    "model.add(Conv2D(128, (3, 3), activation='relu', padding='same'))\n",
    "model.add(MaxPooling2D())\n",
    "model.add(Flatten())\n",
    "model.add(Dropout(0.2))\n",
    "model.add(Dense(1024, activation='relu', kernel_constraint=maxnorm(3)))\n",
    "model.add(Dropout(0.2))\n",
    "model.add(Dense(512, activation='relu', kernel_constraint=maxnorm(3)))\n",
    "model.add(Dropout(0.2))\n",
    "model.add(Dense(num_classes, activation='softmax'))\n",
    "# Compile model\n",
    "epochs = 30\n",
    "lrate = 0.01\n",
    "decay = lrate/epochs\n",
    "sgd = SGD(lr=lrate, momentum=0.9, decay=decay, nesterov=False)\n",
    "model.compile(loss='categorical_crossentropy', optimizer=sgd, metrics=['accuracy'])"
   ]
  },
  {
   "cell_type": "code",
   "execution_count": null,
   "metadata": {},
   "outputs": [],
   "source": [
    "STEP_SIZE_TRAIN=train_generator.n//train_generator.batch_size\n",
    "STEP_SIZE_VALID=valid_generator.n//valid_generator.batch_size\n",
    "STEP_SIZE_TEST=test_generator.n//test_generator.batch_size\n",
    "Model_7 = model.fit_generator(generator=train_generator,\n",
    "                    steps_per_epoch=STEP_SIZE_TRAIN,\n",
    "                    validation_data=valid_generator,\n",
    "                    validation_steps=STEP_SIZE_VALID,\n",
    "                    epochs=30,class_weight=class_weights)"
   ]
  },
  {
   "cell_type": "code",
   "execution_count": null,
   "metadata": {},
   "outputs": [],
   "source": [
    "Save_graph_path ='/mnt/ST079-00/ST079-00-01/Output/DL_Models_graphs'\n",
    "model_name  = 'Model_7'\n",
    "Model_accuracy_graph(Model_7,model_name,Save_graph_path)\n",
    "Save_model_path = '/mnt/ST079-00/ST079-00-01/Output/DL_Models'\n",
    "Model_Save(Model_7,model_name,Save_model_path)"
   ]
  },
  {
   "cell_type": "markdown",
   "metadata": {},
   "source": [
    "## Test Model 8"
   ]
  },
  {
   "cell_type": "code",
   "execution_count": null,
   "metadata": {},
   "outputs": [],
   "source": [
    "# Create the model\n",
    "num_classes =5\n",
    "model = Sequential()\n",
    "model.add(Conv2D(filters=16, kernel_size=(3, 3), activation='relu', padding='same'))\n",
    "model.add(Conv2D(filters=16, kernel_size=(3, 3), activation='relu', padding='same'))\n",
    "model.add(BatchNormalization())\n",
    "model.add(MaxPool2D(pool_size=(2, 2))\n",
    "          \n",
    "model.add(SeparableConv2D(filters=32, kernel_size=(3, 3), activation='relu', padding='same'))\n",
    "model.add(SeparableConv2D(filters=32, kernel_size=(3, 3), activation='relu', padding='same'))\n",
    "model.add(BatchNormalization())\n",
    "model.add(MaxPool2D(pool_size=(2, 2))) \n",
    "\n",
    "model.add(SeparableConv2D(filters=64, kernel_size=(3, 3), activation='relu', padding='same'))\n",
    "model.add(SeparableConv2D(filters=64, kernel_size=(3, 3), activation='relu', padding='same'))\n",
    "model.add(BatchNormalization())\n",
    "model.add(MaxPool2D(pool_size=(2, 2))) \n",
    "          \n",
    "model.add(SeparableConv2D(filters=128, kernel_size=(3, 3), activation='relu', padding='same'))\n",
    "model.add(Dropout(rate=0.1)\n",
    "model.add(SeparableConv2D(filters=128, kernel_size=(3, 3), activation='relu', padding='same'))\n",
    "model.add(BatchNormalization())\n",
    "model.add(MaxPool2D(pool_size=(2, 2)))\n",
    "\n",
    "model.add(SeparableConv2D(filters=256, kernel_size=(3, 3), activation='relu', padding='same'))\n",
    "model.add(Dropout(rate=0.2)          \n",
    "model.add(SeparableConv2D(filters=256, kernel_size=(3, 3), activation='relu', padding='same'))\n",
    "model.add(BatchNormalization())\n",
    "model.add(MaxPool2D(pool_size=(2, 2)))\n",
    "          \n",
    "model.add(SeparableConv2D(filters=512, kernel_size=(3, 3), activation='relu', padding='same'))\n",
    "model.add(Dropout(rate=0.3)\n",
    "model.add(SeparableConv2D(filters=512, kernel_size=(3, 3), activation='relu', padding='same'))\n",
    "model.add(BatchNormalization())\n",
    "model.add(MaxPool2D(pool_size=(2, 2)))\n",
    "\n",
    "          \n",
    "model.add(Flatten())          \n",
    "model.add(Dense(units=2048, activation='relu'))\n",
    "model.add(Dropout(rate=0.4))\n",
    "model.add(Dense(units=1024, activation='relu'))\n",
    "model.add(Dropout(rate=0.3))\n",
    "model.add(Dense(units=512, activation='relu'))    \n",
    "model.add(Dropout(rate=0.2))\n",
    "model.add(Dense(units=256, activation='relu'))    \n",
    "model.add(Dropout(rate=0.1))\n",
    "model.add(Dense(units=128, activation='relu'))    \n",
    "model.add(Dropout(rate=0.05))\n",
    "model.add(Dense(units=64, activation='relu'))\n",
    "model.add(Dense(units=5, activation='sigmoid'))\n",
    "model.compile(optimizer='adam', loss='categorical_crossentropy', metrics=['accuracy'])"
   ]
  },
  {
   "cell_type": "code",
   "execution_count": null,
   "metadata": {},
   "outputs": [],
   "source": [
    "STEP_SIZE_TRAIN=train_generator.n//train_generator.batch_size\n",
    "STEP_SIZE_VALID=valid_generator.n//valid_generator.batch_size\n",
    "STEP_SIZE_TEST=test_generator.n//test_generator.batch_size\n",
    "Model_8 = model.fit_generator(generator=train_generator,\n",
    "                    steps_per_epoch=STEP_SIZE_TRAIN,\n",
    "                    validation_data=valid_generator,\n",
    "                    validation_steps=STEP_SIZE_VALID,\n",
    "                    epochs=30,class_weight=class_weights)"
   ]
  },
  {
   "cell_type": "code",
   "execution_count": null,
   "metadata": {},
   "outputs": [],
   "source": [
    "Save_graph_path ='/mnt/ST079-00/ST079-00-01/Output/DL_Models_graphs'\n",
    "model_name  = 'Model_8'\n",
    "Model_accuracy_graph(Model_8,model_name)\n",
    "Save_model_path = '/mnt/ST079-00/ST079-00-01/Output/DL_Models'\n",
    "Model_Save(Model_8,model_name,Save_model_path)"
   ]
  },
  {
   "cell_type": "markdown",
   "metadata": {},
   "source": [
    "## Transfer learning with VGG16"
   ]
  },
  {
   "cell_type": "code",
   "execution_count": null,
   "metadata": {},
   "outputs": [],
   "source": [
    "\n",
    "def pretrained(model_name,save_path=None,save_name=None):\n",
    "    model = model_name\n",
    "    model = Model(inputs = model.inputs, outputs = model.layers[-2].output)\n",
    "    if save_name is not None:\n",
    "        filename = save_name\n",
    "        pickle.dump(model, open(filename, 'wb'))\n",
    "    return(model)"
   ]
  },
  {
   "cell_type": "code",
   "execution_count": null,
   "metadata": {},
   "outputs": [],
   "source": [
    "pretrained_model = pretrained(VGG16(),'vgg-edited.sav')"
   ]
  },
  {
   "cell_type": "code",
   "execution_count": null,
   "metadata": {},
   "outputs": [],
   "source": [
    "model = Sequential()\n",
    "model.add(Dense(512, activation='relu', W_constraint=maxnorm(3)))\n",
    "model.add(Dropout(0.2))\n",
    "model.add(Dense(5, activation='softmax'))"
   ]
  },
  {
   "cell_type": "code",
   "execution_count": null,
   "metadata": {},
   "outputs": [],
   "source": [
    "model_1 = Model(inputs=pretrained_model.input, outputs=model(pretrained_model.output))\n",
    "model_1.compile(loss='categorical_crossentropy', optimizer='adam', metrics=['accuracy'])"
   ]
  },
  {
   "cell_type": "code",
   "execution_count": null,
   "metadata": {},
   "outputs": [],
   "source": [
    "STEP_SIZE_TRAIN=train_generator.n//train_generator.batch_size\n",
    "STEP_SIZE_VALID=valid_generator.n//valid_generator.batch_size\n",
    "STEP_SIZE_TEST=test_generator.n//test_generator.batch_size\n",
    "Model_9 = model_1.fit_generator(generator=train_generator,\n",
    "                    steps_per_epoch=STEP_SIZE_TRAIN,\n",
    "                    validation_data=valid_generator,\n",
    "                    validation_steps=STEP_SIZE_VALID,class_weight=class_weights,\n",
    "                    epochs=50\n",
    ")"
   ]
  },
  {
   "cell_type": "code",
   "execution_count": null,
   "metadata": {},
   "outputs": [],
   "source": [
    "Save_graph_path ='/mnt/ST079-00/ST079-00-01/Output/DL_Models_graphs'\n",
    "model_name  = 'Model_9'\n",
    "Model_accuracy_graph(Model_9,model_name,Save_graph_path)\n",
    "Save_model_path = '/mnt/ST079-00/ST079-00-01/Output/DL_Models'\n",
    "Model_Save(Model_9,model_name,Save_model_path)"
   ]
  },
  {
   "cell_type": "markdown",
   "metadata": {},
   "source": [
    "## Test Model 10"
   ]
  },
  {
   "cell_type": "code",
   "execution_count": null,
   "metadata": {},
   "outputs": [],
   "source": [
    "# CNN Model\n",
    "\n",
    "model = Sequential()\n",
    "model.add(Conv2D(filters=16,kernel_size=(3,3),activation='relu',input_shape=(224,224,3)))\n",
    "\n",
    "model.add(Conv2D(filters=36,kernel_size=(3,3),activation='relu'))\n",
    "model.add(MaxPool2D(pool_size=(2,2)))\n",
    "\n",
    "model.add(Conv2D(filters=64,kernel_size=(3,3),activation='relu'))\n",
    "model.add(MaxPool2D(pool_size=(2,2)))\n",
    "\n",
    "model.add(Conv2D(filters=128,kernel_size=(3,3),activation='relu'))\n",
    "model.add(MaxPool2D(pool_size=(2,2)))\n",
    "\n",
    "model.add(Dropout(rate=0.25))\n",
    "\n",
    "model.add(Flatten())\n",
    "model.add(Dense(units=64,activation='relu'))\n",
    "model.add(Dropout(rate=0.25))\n",
    "model.add(Dense(units=5,activation='sigmoid'))\n",
    "\n",
    "model.compile(optimizer='adam',loss=keras.losses.binary_crossentropy,metrics=['accuracy'])"
   ]
  },
  {
   "cell_type": "code",
   "execution_count": null,
   "metadata": {},
   "outputs": [],
   "source": [
    "STEP_SIZE_TRAIN=train_generator.n//train_generator.batch_size\n",
    "STEP_SIZE_VALID=valid_generator.n//valid_generator.batch_size\n",
    "STEP_SIZE_TEST=test_generator.n//test_generator.batch_size\n",
    "Model_10 = model_1.fit_generator(generator=train_generator,\n",
    "                    steps_per_epoch=STEP_SIZE_TRAIN,\n",
    "                    validation_data=valid_generator,\n",
    "                    validation_steps=STEP_SIZE_VALID,class_weight=class_weights,\n",
    "                    epochs=50\n",
    ")"
   ]
  },
  {
   "cell_type": "code",
   "execution_count": null,
   "metadata": {},
   "outputs": [],
   "source": [
    "Save_graph_path ='/mnt/ST079-00/ST079-00-01/Output/DL_Models_graphs'\n",
    "model_name  = 'Model_10'\n",
    "Model_accuracy_graph(Model_10,model_name,Save_graph_path)\n",
    "Save_model_path = '/mnt/ST079-00/ST079-00-01/Output/DL_Models'\n",
    "Model_Save(Model_10,model_name,Save_model_path)"
   ]
  },
  {
   "cell_type": "markdown",
   "metadata": {},
   "source": [
    "## Testing incase of high performance"
   ]
  },
  {
   "cell_type": "code",
   "execution_count": null,
   "metadata": {},
   "outputs": [],
   "source": [
    "test_generator.reset()\n",
    "pred=model.predict_generator(test_generator,\n",
    "steps=STEP_SIZE_TEST,\n",
    "verbose=1)\n",
    "\n",
    "predicted_class_indices=np.argmax(pred,axis=1)\n",
    "\n",
    "labels = (train_generator.class_indices)\n",
    "predicted_class_indices\n",
    "labels = dict((v,k) for k,v in labels.items())\n",
    "predictions = [labels[k] for k in predicted_class_indices]\n",
    "filenames=test_generator.filenames\n",
    "results=pd.DataFrame({\"Filename\":filenames,\n",
    "                      \"Predictions\":predictions})\n",
    "results.to_csv(\"results.csv\",index=False)"
   ]
  },
  {
   "cell_type": "code",
   "execution_count": null,
   "metadata": {},
   "outputs": [],
   "source": []
  },
  {
   "cell_type": "code",
   "execution_count": null,
   "metadata": {},
   "outputs": [],
   "source": []
  }
 ],
 "metadata": {
  "kernelspec": {
   "display_name": "Python 3",
   "language": "python",
   "name": "python3"
  },
  "language_info": {
   "codemirror_mode": {
    "name": "ipython",
    "version": 3
   },
   "file_extension": ".py",
   "mimetype": "text/x-python",
   "name": "python",
   "nbconvert_exporter": "python",
   "pygments_lexer": "ipython3",
   "version": "3.7.6"
  }
 },
 "nbformat": 4,
 "nbformat_minor": 2
}
